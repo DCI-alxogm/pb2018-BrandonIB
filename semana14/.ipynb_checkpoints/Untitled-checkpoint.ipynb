{
 "cells": [
  {
   "cell_type": "code",
   "execution_count": 10,
   "metadata": {},
   "outputs": [],
   "source": [
    "import matplotlib.pyplot as plt\n",
    "import numpy as np\n",
    "#%matplotlib inline"
   ]
  },
  {
   "cell_type": "code",
   "execution_count": 20,
   "metadata": {},
   "outputs": [],
   "source": [
    "#Variables en cero:\n",
    "w=4\n",
    "tmax=50 \n",
    "e=0.01 \n",
    "a=0"
   ]
  },
  {
   "cell_type": "code",
   "execution_count": 13,
   "metadata": {},
   "outputs": [],
   "source": [
    "def fx(tmax, e): #se definen repeticiones\n",
    "                temp = tmax/e \n",
    "                return temp"
   ]
  },
  {
   "cell_type": "code",
   "execution_count": 25,
   "metadata": {},
   "outputs": [],
   "source": [
    "a = fx(tmax,e)#magnitud de repeticiones\n",
    "#se inician en cero los arreglos de magnitud definida anteriormente y posteriormente las variables de velocidad y angulo\n",
    "def fcero(reps):\n",
    "                temp = np.zeros(reps) \n",
    "                return temp\n",
    "                v = fcero(a) \n",
    "                theta = fcero(a)\n",
    "                #se empieza vo con valor minimo\n",
    "                v[0] = 0.0001"
   ]
  },
  {
   "cell_type": "code",
   "execution_count": 31,
   "metadata": {},
   "outputs": [],
   "source": [
    "#Se calculan variables por metodo que indico ud maestra\n",
    "def var(v, theta, e, w):\n",
    "                        for i in range(a-1):\n",
    "                                            v[i+1] = v[i] - e*(w**2)*theta[i]\n",
    "                                            theta[i+1] = theta[i] + e*v[i]\n",
    "                        \n",
    "                                            var(v,theta,e,w)"
   ]
  },
  {
   "cell_type": "code",
   "execution_count": 35,
   "metadata": {},
   "outputs": [
    {
     "ename": "IndentationError",
     "evalue": "unexpected indent (<ipython-input-35-947028f998cc>, line 2)",
     "output_type": "error",
     "traceback": [
      "\u001b[0;36m  File \u001b[0;32m\"<ipython-input-35-947028f998cc>\"\u001b[0;36m, line \u001b[0;32m2\u001b[0m\n\u001b[0;31m    plt.plot(v,theta, color='orange')\u001b[0m\n\u001b[0m    ^\u001b[0m\n\u001b[0;31mIndentationError\u001b[0m\u001b[0;31m:\u001b[0m unexpected indent\n"
     ]
    }
   ],
   "source": [
    "#gráficas a continuacion: #theta vs v\n",
    "                        plt.plot(v,theta, color='orange')\n",
    "                        plt.xlabel('velocidad')\n",
    "                        plt.ylabel('angulo')\n",
    "                        plt.grid()"
   ]
  },
  {
   "cell_type": "code",
   "execution_count": 38,
   "metadata": {},
   "outputs": [
    {
     "ename": "IndentationError",
     "evalue": "unexpected indent (<ipython-input-38-ba04f20713dd>, line 2)",
     "output_type": "error",
     "traceback": [
      "\u001b[0;36m  File \u001b[0;32m\"<ipython-input-38-ba04f20713dd>\"\u001b[0;36m, line \u001b[0;32m2\u001b[0m\n\u001b[0;31m    plt.scatter(v, color ='green')\u001b[0m\n\u001b[0m    ^\u001b[0m\n\u001b[0;31mIndentationError\u001b[0m\u001b[0;31m:\u001b[0m unexpected indent\n"
     ]
    }
   ],
   "source": [
    "#v vs tiempo\n",
    "                        plt.plot(v, color ='green')\n",
    "                        plt.xlabel('tiempo')\n",
    "                        plt.ylabel('velocidad')\n",
    "                        plt.grid()"
   ]
  },
  {
   "cell_type": "code",
   "execution_count": 37,
   "metadata": {},
   "outputs": [
    {
     "ename": "IndentationError",
     "evalue": "unexpected indent (<ipython-input-37-d472756a847d>, line 2)",
     "output_type": "error",
     "traceback": [
      "\u001b[0;36m  File \u001b[0;32m\"<ipython-input-37-d472756a847d>\"\u001b[0;36m, line \u001b[0;32m2\u001b[0m\n\u001b[0;31m    plt.plot(theta, color='purple')\u001b[0m\n\u001b[0m    ^\u001b[0m\n\u001b[0;31mIndentationError\u001b[0m\u001b[0;31m:\u001b[0m unexpected indent\n"
     ]
    }
   ],
   "source": [
    "#theta vs tiempo\n",
    "                        plt.plot(theta, color='purple')\n",
    "                        plt.xlabel('tiempo')\n",
    "                        plt.ylabel('angulo')\n",
    "                        plt.grid()"
   ]
  },
  {
   "cell_type": "code",
   "execution_count": null,
   "metadata": {},
   "outputs": [],
   "source": []
  }
 ],
 "metadata": {
  "kernelspec": {
   "display_name": "Python 2",
   "language": "python",
   "name": "python2"
  },
  "language_info": {
   "codemirror_mode": {
    "name": "ipython",
    "version": 2
   },
   "file_extension": ".py",
   "mimetype": "text/x-python",
   "name": "python",
   "nbconvert_exporter": "python",
   "pygments_lexer": "ipython2",
   "version": "2.7.15"
  }
 },
 "nbformat": 4,
 "nbformat_minor": 2
}
